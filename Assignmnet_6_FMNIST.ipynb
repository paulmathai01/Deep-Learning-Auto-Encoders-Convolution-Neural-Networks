{
 "cells": [
  {
   "cell_type": "code",
   "execution_count": null,
   "metadata": {
    "_cell_guid": "b1076dfc-b9ad-4769-8c92-a6c4dae69d19",
    "_kg_hide-input": true,
    "_kg_hide-output": true,
    "_uuid": "8f2839f25d086af736a60e9eeb907d3b93b6e0e5"
   },
   "outputs": [],
   "source": [
    "import tensorflow as tf\n",
    "from tensorflow.keras.layers import *\n",
    "from tensorflow.keras.models import Model, load_model, Sequential\n",
    "from tensorflow.keras.datasets import mnist\n",
    "from tensorflow.keras.callbacks import ReduceLROnPlateau\n",
    "from tensorflow.keras import regularizers\n",
    "from tensorflow.keras import optimizers\n",
    "from tensorflow.keras import backend as K\n",
    "import scipy\n",
    "import matplotlib.pyplot as plt\n",
    "from matplotlib.offsetbox import OffsetImage, AnnotationBbox, TextArea\n",
    "import pandas as pd\n",
    "import numpy as np"
   ]
  },
  {
   "cell_type": "code",
   "execution_count": null,
   "metadata": {
    "_kg_hide-input": true,
    "_kg_hide-output": true,
    "_uuid": "cf9a78d7868bd478567c8b18c3656de9d5d9da3d"
   },
   "outputs": [],
   "source": [
    "x_train = pd.read_csv('fashionmnist/fashion-mnist_train.csv')\n",
    "x_test = pd.read_csv('fashionmnist/fashion-mnist_test.csv')\n",
    "\n",
    "y_train = x_train.pop('label')\n",
    "y_test = x_test.pop('label')\n",
    "\n",
    "x_train = np.array(x_train).reshape(-1, 28, 28) / 255.0\n",
    "x_test = np.array(x_test).reshape(-1, 28, 28) / 255.0"
   ]
  },
  {
   "cell_type": "code",
   "execution_count": null,
   "metadata": {
    "_kg_hide-input": true,
    "_uuid": "7621dd404be08ce992f10d20ad18b64e7dfba9a9"
   },
   "outputs": [],
   "source": [
    "labeldict = {\n",
    "    0: 'T-shirt/top',\n",
    "    1: 'Trouser',\n",
    "    2: 'Pullover',\n",
    "    3: 'Dress',\n",
    "    4: 'Coat',\n",
    "    5: 'Sandal',\n",
    "    6: 'Shirt',\n",
    "    7: 'Sneaker',\n",
    "    8: 'Bag',\n",
    "    9: 'Ankle boot'\n",
    "}\n",
    "\n",
    "fig, ax = plt.subplots(1, 10, figsize=(20, 2))\n",
    "for i in range(10):\n",
    "    ax[i].imshow(x_train[i], cmap='gray')\n",
    "    ax[i].set_title(labeldict[y_train[i]])"
   ]
  },
  {
   "cell_type": "code",
   "execution_count": null,
   "metadata": {
    "_uuid": "257920381783743b7b2d61460338aca342a9042e"
   },
   "outputs": [],
   "source": [
    "x_train = x_train.reshape(-1, 28, 28, 1)\n",
    "x_test = x_test.reshape(-1, 28, 28, 1)\n",
    "\n",
    "# input layer\n",
    "input_layer = Input(shape=(28, 28, 1))\n",
    "\n",
    "# encoding architecture\n",
    "encoded_layer1 = Conv2D(64, (3, 3), activation='relu', padding='same')(input_layer)\n",
    "encoded_layer1 = MaxPool2D( (2, 2), padding='same')(encoded_layer1)\n",
    "encoded_layer2 = Conv2D(32, (3, 3), activation='relu', padding='same')(encoded_layer1)\n",
    "encoded_layer2 = MaxPool2D( (2, 2), padding='same')(encoded_layer2)\n",
    "encoded_layer3 = Conv2D(16, (3, 3), activation='relu', padding='same')(encoded_layer2)\n",
    "latent_view    = MaxPool2D( (2, 2), padding='same')(encoded_layer3)\n",
    "\n",
    "# decoding architecture\n",
    "decoded_layer1 = Conv2D(16, (3, 3), activation='relu', padding='same')(latent_view)\n",
    "decoded_layer1 = UpSampling2D((2, 2))(decoded_layer1)\n",
    "decoded_layer2 = Conv2D(32, (3, 3), activation='relu', padding='same')(decoded_layer1)\n",
    "decoded_layer2 = UpSampling2D((2, 2))(decoded_layer2)\n",
    "decoded_layer3 = Conv2D(64, (3, 3), activation='relu')(decoded_layer2)\n",
    "decoded_layer3 = UpSampling2D((2, 2))(decoded_layer3)\n",
    "output_layer   = Conv2D(1, (3, 3), padding='same')(decoded_layer3)\n",
    "\n",
    "# compile the model\n",
    "model = Model(input_layer, output_layer)\n",
    "model.compile(optimizer='adam', loss='mse',metrics=['accuracy','mse'])\n",
    "\n",
    "\n",
    "print(model.summary())\n",
    "\n",
    "clr = ReduceLROnPlateau(monitor='loss',factor=0.5,patience=3,min_delta=0.01,cooldown=0,min_lr=1e-7,verbose=1)\n",
    "\n",
    "model.fit(x_train,x_train,batch_size=2048,epochs=5,shuffle=True,validation_data=(x_test, x_test),callbacks=[clr])"
   ]
  },
  {
   "cell_type": "code",
   "execution_count": null,
   "metadata": {},
   "outputs": [],
   "source": [
    "preds = model.predict(x_test)"
   ]
  },
  {
   "cell_type": "code",
   "execution_count": null,
   "metadata": {},
   "outputs": [],
   "source": [
    "from PIL import Image \n",
    "f, ax = plt.subplots(1,5)\n",
    "f.set_size_inches(80, 40)\n",
    "for i in range(5):\n",
    "    ax[i].imshow(x_train[i].reshape(28, 28))\n",
    "plt.show()"
   ]
  },
  {
   "cell_type": "code",
   "execution_count": null,
   "metadata": {},
   "outputs": [],
   "source": [
    "from imgaug import augmenters\n",
    "noise = augmenters.SaltAndPepper(0.1)\n",
    "seq_object = augmenters.Sequential([noise])\n",
    "val_x_n = seq_object.augment_images(x_train * 255) / 255\n",
    "preds = model.predict(val_x_n[:10])\n",
    "f, ax = plt.subplots(1,5)\n",
    "f.set_size_inches(80, 40)\n",
    "for i in range(5):\n",
    "    ax[i-5].imshow(preds[i].reshape(28, 28))\n",
    "plt.show()"
   ]
  },
  {
   "cell_type": "code",
   "execution_count": null,
   "metadata": {},
   "outputs": [],
   "source": [
    "fashion_train = pd.read_csv(\"fashionmnist/fashion-mnist_train.csv\")"
   ]
  },
  {
   "cell_type": "code",
   "execution_count": null,
   "metadata": {},
   "outputs": [],
   "source": [
    "data = fashion_train.iloc[:, 1:].values.astype(np.float32)\n",
    "target = fashion_train['label'].values"
   ]
  },
  {
   "cell_type": "code",
   "execution_count": null,
   "metadata": {},
   "outputs": [],
   "source": [
    "import umap\n",
    "reduce = umap.UMAP(random_state = 223)\n",
    "embedding = reduce.fit_transform(data)"
   ]
  },
  {
   "cell_type": "code",
   "execution_count": null,
   "metadata": {},
   "outputs": [],
   "source": [
    "\n",
    "df = pd.DataFrame(embedding, columns=('x', 'y'))\n",
    "df[\"class\"] = target\n",
    "labels = { 0: 'T-shirt/top', 1: 'Trouser', 2: 'Pullover', 3: 'Dress', 4: 'Coat', \n",
    "          5: 'Sandal', 6: 'Shirt', 7: 'Sneaker', 8 : 'Bag', 9 : 'Ankle boot'}\n",
    "\n",
    "df[\"class\"].replace(labels, inplace=True)"
   ]
  },
  {
   "cell_type": "code",
   "execution_count": null,
   "metadata": {},
   "outputs": [],
   "source": [
    "import seaborn as sns\n",
    "sns.set_style(\"whitegrid\", {'axes.grid' : False})\n",
    "#adjusting plot dots with plot_kws\n",
    "ax = sns.pairplot(x_vars = [\"x\"], y_vars = [\"y\"],data = df, \n",
    "             hue = \"class\",size=11, plot_kws={\"s\": 4});\n",
    "ax.fig.suptitle('Fashion MNIST clustered with UMAP') ;"
   ]
  },
  {
   "cell_type": "code",
   "execution_count": null,
   "metadata": {},
   "outputs": [],
   "source": [
    "idx = np.random.choice(len(x_test), 10000)\n",
    "inputs = x_test[idx]\n",
    "fig, ax = plt.subplots(figsize=(10, 7))\n",
    "ax.set_title('AUTOENCODERS')\n",
    "coords = encoder.predict(inputs)\n",
    "classes = y_test[idx]\n",
    "plt.scatter(coords[:, 0], coords[:, 1], c=classes)\n",
    "plt.colorbar()\n",
    "for i in range(10):\n",
    "    class_center = np.mean(coords[classes == i], axis=0)\n",
    "    text = TextArea('{} ({})'.format(labeldict[i], i))\n",
    "    ab = AnnotationBbox(text, class_center, xycoords='data', frameon=True)\n",
    "    ax.add_artist(ab)\n",
    "plt.show()"
   ]
  },
  {
   "cell_type": "code",
   "execution_count": null,
   "metadata": {},
   "outputs": [],
   "source": [
    "idx = np.random.choice(len(x_test), 2000)\n",
    "inputs = x_test[idx]\n",
    "fig, ax = plt.subplots(figsize=(10, 7))\n",
    "ax.set_title('t-SNE')\n",
    "coords = TSNE(n_components=2).fit_transform(inputs.reshape(2000, -1))\n",
    "classes = y_test[idx]\n",
    "plt.scatter(coords[:, 0], coords[:, 1], c=classes)\n",
    "plt.colorbar()\n",
    "for i in range(10):\n",
    "    class_center = np.mean(coords[classes == i], axis=0)\n",
    "    text = TextArea('{} ({})'.format(labeldict[i], i))\n",
    "    ab = AnnotationBbox(text, class_center, xycoords='data', frameon=True)\n",
    "    ax.add_artist(ab)\n",
    "plt.show()"
   ]
  }
 ],
 "metadata": {
  "kernelspec": {
   "display_name": "Python 3",
   "language": "python",
   "name": "python3"
  },
  "language_info": {
   "codemirror_mode": {
    "name": "ipython",
    "version": 3
   },
   "file_extension": ".py",
   "mimetype": "text/x-python",
   "name": "python",
   "nbconvert_exporter": "python",
   "pygments_lexer": "ipython3",
   "version": "3.6.3"
  }
 },
 "nbformat": 4,
 "nbformat_minor": 4
}
